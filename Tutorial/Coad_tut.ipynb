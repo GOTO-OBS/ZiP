{
 "cells": [
  {
   "cell_type": "code",
   "execution_count": 1,
   "metadata": {},
   "outputs": [
    {
     "name": "stdout",
     "output_type": "stream",
     "text": [
      "For a faster performance install pyfftw\n",
      " \n",
      " \n",
      " \n",
      "For a faster performance install pyfftw\n",
      " \n",
      " \n",
      " \n",
      "/home/rcutter/anaconda3/lib/python3.6/site-packages/zogyp/configfls\n"
     ]
    }
   ],
   "source": [
    "import glob\n",
    "import ntpath\n",
    "import time\n",
    "import shutil\n",
    "import subprocess\n",
    "import matplotlib.pyplot as plt\n",
    "from astropy.io import fits\n",
    "import numpy as np\n",
    "\n",
    "#ZOGY in Parallel routines\n",
    "#from zogyp.zip import run_ZOGY\n",
    "#from zogyp.zip import rdfits\n",
    "from zogyp.zip import config_loc\n",
    "\n",
    "#Image alignment\n",
    "#from zogyp.spali2 import spalipy\n",
    "\n",
    "#Stacking\n",
    "from zogyp.zo_coadd import med_comb\n",
    "from zogyp.zo_coadd import prop_coad\n",
    "\n",
    "LOC = config_loc()\n",
    "t_f = LOC.replace('configfls','test')\n",
    "T = [i for i in glob.glob(t_f+'/*')]"
   ]
  },
  {
   "cell_type": "markdown",
   "metadata": {},
   "source": [
    "---\n",
    "\n",
    "#### The coad funcitons take a list of fits files and stacks them (Assuming they are aligned).\n",
    "#### This can be done using either the directory of the images needing to be stacked:"
   ]
  },
  {
   "cell_type": "code",
   "execution_count": 2,
   "metadata": {},
   "outputs": [
    {
     "name": "stdout",
     "output_type": "stream",
     "text": [
      "['/home/rcutter/anaconda3/lib/python3.6/site-packages/zogyp/test/1.fits', '/home/rcutter/anaconda3/lib/python3.6/site-packages/zogyp/test/2.fits']\n",
      "Making PSF Catalog\n",
      "Modelling PSF /home/rcutter/anaconda3/lib/python3.6/site-packages/zogyp/test/1.fits\n",
      "Making PSF Catalog\n",
      "Modelling PSF /home/rcutter/anaconda3/lib/python3.6/site-packages/zogyp/test/2.fits\n"
     ]
    }
   ],
   "source": [
    "Ref_data = prop_coad([t_f])"
   ]
  },
  {
   "cell_type": "markdown",
   "metadata": {},
   "source": [
    "#### or using the individual file names:"
   ]
  },
  {
   "cell_type": "code",
   "execution_count": 3,
   "metadata": {},
   "outputs": [
    {
     "name": "stdout",
     "output_type": "stream",
     "text": [
      "['/home/rcutter/anaconda3/lib/python3.6/site-packages/zogyp/test/1.fits', '/home/rcutter/anaconda3/lib/python3.6/site-packages/zogyp/test/2.fits']\n",
      "Making PSF Catalog\n",
      "Modelling PSF /home/rcutter/anaconda3/lib/python3.6/site-packages/zogyp/test/1.fits\n",
      "Making PSF Catalog\n",
      "Modelling PSF /home/rcutter/anaconda3/lib/python3.6/site-packages/zogyp/test/2.fits\n"
     ]
    },
    {
     "data": {
      "image/png": "[encoded data removed]",
      "text/plain": [
       "<Figure size 432x288 with 1 Axes>"
      ]
     },
     "metadata": {},
     "output_type": "display_data"
    }
   ],
   "source": [
    "Ref_data = prop_coad(T)\n",
    "\n",
    "plt.imshow(Ref_data)\n",
    "plt.show()"
   ]
  },
  {
   "cell_type": "markdown",
   "metadata": {},
   "source": [
    "#### Furthermore, instead of just having a data array, you can save it to a file."
   ]
  },
  {
   "cell_type": "code",
   "execution_count": 4,
   "metadata": {},
   "outputs": [
    {
     "name": "stdout",
     "output_type": "stream",
     "text": [
      "['/home/rcutter/anaconda3/lib/python3.6/site-packages/zogyp/test/1.fits', '/home/rcutter/anaconda3/lib/python3.6/site-packages/zogyp/test/2.fits']\n",
      "Making PSF Catalog\n",
      "Modelling PSF /home/rcutter/anaconda3/lib/python3.6/site-packages/zogyp/test/1.fits\n",
      "Making PSF Catalog\n",
      "Modelling PSF /home/rcutter/anaconda3/lib/python3.6/site-packages/zogyp/test/2.fits\n"
     ]
    },
    {
     "data": {
      "image/png": "[encoded data removed]",
      "text/plain": [
       "<Figure size 432x288 with 1 Axes>"
      ]
     },
     "metadata": {},
     "output_type": "display_data"
    },
    {
     "data": {
      "text/plain": [
       "0"
      ]
     },
     "execution_count": 4,
     "metadata": {},
     "output_type": "execute_result"
    }
   ],
   "source": [
    "t = time.time()\n",
    "out_file, R = prop_coad(T, make_fits=True)\n",
    "t1 = time.time() - t\n",
    "plt.imshow(fits.getdata(out_file))\n",
    "plt.show()\n",
    "\n",
    "subprocess.call(['rm', out_file])"
   ]
  },
  {
   "cell_type": "markdown",
   "metadata": {},
   "source": [
    "#### All of the above can be done for median combine \n",
    "#### Which is notably faster than Proper Co-Addition"
   ]
  },
  {
   "cell_type": "code",
   "execution_count": 5,
   "metadata": {},
   "outputs": [
    {
     "name": "stdout",
     "output_type": "stream",
     "text": [
      "['/home/rcutter/anaconda3/lib/python3.6/site-packages/zogyp/test/1.fits', '/home/rcutter/anaconda3/lib/python3.6/site-packages/zogyp/test/2.fits']\n"
     ]
    },
    {
     "data": {
      "image/png": "[encoded data removed]",
      "text/plain": [
       "<Figure size 432x288 with 1 Axes>"
      ]
     },
     "metadata": {},
     "output_type": "display_data"
    },
    {
     "name": "stdout",
     "output_type": "stream",
     "text": [
      "Prop coad 4.868231773376465 seconds\n",
      "Med comb 0.38112640380859375 seconds\n"
     ]
    }
   ],
   "source": [
    "t = time.time()\n",
    "out_file, R = med_comb(T, make_fits=True)\n",
    "t = time.time() - t\n",
    "plt.imshow(fits.getdata(out_file))\n",
    "plt.show()\n",
    "\n",
    "subprocess.call(['rm', out_file])\n",
    "\n",
    "print('Prop coad '+str(t1)+' seconds')\n",
    "print('Med comb '+str(t)+' seconds')"
   ]
  },
  {
   "cell_type": "code",
   "execution_count": null,
   "metadata": {},
   "outputs": [],
   "source": []
  }
 ],
 "metadata": {
  "kernelspec": {
   "display_name": "Python 3",
   "language": "python",
   "name": "python3"
  },
  "language_info": {
   "codemirror_mode": {
    "name": "ipython",
    "version": 3
   },
   "file_extension": ".py",
   "mimetype": "text/x-python",
   "name": "python",
   "nbconvert_exporter": "python",
   "pygments_lexer": "ipython3",
   "version": "3.6.5"
  }
 },
 "nbformat": 4,
 "nbformat_minor": 2
}
